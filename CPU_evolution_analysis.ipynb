{
 "cells": [
  {
   "cell_type": "markdown",
   "id": "identified-genesis",
   "metadata": {},
   "source": [
    "# Tutorial: Computer CPU Evolution Analysis\n",
    "CMU 15688 Spring 2021\n"
   ]
  },
  {
   "cell_type": "markdown",
   "id": "important-happening",
   "metadata": {},
   "source": [
    "### Setting up environment\n",
    "https://drive.google.com/file/d/1ahobYKS66mL53KQhhMg8KoziKq74lToU/view?usp=sharing"
   ]
  },
  {
   "cell_type": "code",
   "execution_count": 274,
   "id": "personal-student",
   "metadata": {},
   "outputs": [],
   "source": [
    "import requests\n",
    "import csv\n",
    "import pandas as pd\n",
    "import numpy as np\n",
    "from bs4 import BeautifulSoup\n",
    "import time\n",
    "import re\n",
    "import matplotlib.pyplot as plt"
   ]
  },
  {
   "cell_type": "code",
   "execution_count": 15,
   "id": "rational-translator",
   "metadata": {},
   "outputs": [
    {
     "name": "stdout",
     "output_type": "stream",
     "text": [
      "Intel_CPUs.csv      100%[===================>] 557.62K  --.-KB/s    in 0.1s    \n"
     ]
    }
   ],
   "source": [
    "!wget -q --show-progress 'https://drive.google.com/uc?export=download&id=1ahobYKS66mL53KQhhMg8KoziKq74lToU' -O Intel_CPUs.csv"
   ]
  },
  {
   "cell_type": "code",
   "execution_count": 356,
   "id": "legislative-bridal",
   "metadata": {},
   "outputs": [],
   "source": [
    "csv_file_name = 'Intel_CPUs.csv'\n",
    "df = pd.read_csv(csv_file_name, header=0, sep=',', quotechar='\"', dtype=str, keep_default_na=True)"
   ]
  },
  {
   "cell_type": "markdown",
   "id": "genuine-arabic",
   "metadata": {},
   "source": [
    "### Preprocess"
   ]
  },
  {
   "cell_type": "code",
   "execution_count": 357,
   "id": "knowing-entity",
   "metadata": {},
   "outputs": [],
   "source": [
    "def search_string_to_float(input_value):\n",
    "    if pd.isna(input_value):\n",
    "        return float('nan')\n",
    "    regex_process_node = re.compile('(\\d+\\.?\\d*)')\n",
    "    result = regex_process_node.search(input_value)\n",
    "    if result == None:\n",
    "        return float('nan')\n",
    "    return float(result.group())\n",
    "\n",
    "def search_freq_to_float(input_value):\n",
    "    if pd.isna(input_value):\n",
    "        return float('nan')\n",
    "    regex_freq = re.compile('(\\d+\\.?\\d*)\\s?([MG]Hz)')\n",
    "    result = regex_freq.search(input_value)\n",
    "    if result == None:\n",
    "        return float('nan')\n",
    "    if result.group(2) == 'MHz':\n",
    "        return float(result.group(1)) / 1000\n",
    "    else:\n",
    "        return float(result.group(1))\n",
    "\n",
    "def launch_date_to_datetime(input_value):\n",
    "    if pd.isna(input_value):\n",
    "        return float('nan')\n",
    "    # some data is in the format of 04'16, should be Q4'16\n",
    "    # like E5-2699AV4, it was released in Oct 2016\n",
    "    # interestingly this is in fact a typo on Intel's offical site\n",
    "    if input_value[0] == '0':\n",
    "        input_value = 'Q' + input_value[1:]\n",
    "    input_value = input_value.replace(' ', '')\n",
    "    return pd.to_datetime('-'.join(input_value.split(\"'\")[::-1]))\n"
   ]
  },
  {
   "cell_type": "code",
   "execution_count": 354,
   "id": "manual-mercy",
   "metadata": {},
   "outputs": [
    {
     "name": "stdout",
     "output_type": "stream",
     "text": [
      "512.0\n",
      "0.8\n"
     ]
    }
   ],
   "source": [
    "print(search_string_to_float('512KB'))\n",
    "\n",
    "# print(df.iloc[12]['Launch_Date'])\n",
    "\n",
    "# print(df.iloc[12]['Launch_Date'].apply(lambda x: launch_date_to_datetime(x)))\n",
    "# print(launch_date_to_datetime(df.iloc[12]['Launch_Date']))\n",
    "# print(pd.isna(float('nan')))\n",
    "# print(pd.to_datetime('15-Q1'))\n",
    "print(search_freq_to_float('800 MHz'))"
   ]
  },
  {
   "cell_type": "code",
   "execution_count": 358,
   "id": "billion-james",
   "metadata": {},
   "outputs": [
    {
     "name": "stdout",
     "output_type": "stream",
     "text": [
      "Done\n",
      "(943, 26)\n"
     ]
    }
   ],
   "source": [
    "df.dropna(subset=['Processor_Number', 'Launch_Date'], inplace=True)\n",
    "df = df[~(df.Vertical_Segment == 'Server')]\n",
    "df = df[~(df.Vertical_Segment == 'Embedded')]\n",
    "df = df[~(df.Processor_Number.apply(lambda x: x.isnumeric()))]\n",
    "drop_columns = [\n",
    "    'Bus_Speed',\n",
    "    'Embedded_Options_Available',\n",
    "    'Processor_Graphics_', \n",
    "    'Graphics_Max_Dynamic_Frequency',\n",
    "    'Graphics_Video_Max_Memory',\n",
    "    'Graphics_Output',\n",
    "    'Max_Resolution_HDMI',\n",
    "    'Max_Resolution_DP',\n",
    "    'Max_Resolution_eDP_Integrated_Flat_Panel',\n",
    "    'OpenGL_Support',\n",
    "    'PCI_Express_Revision',\n",
    "    'PCI_Express_Configurations_',\n",
    "    'Intel_Virtualization_Technology_VTx_',\n",
    "    'Intel_64_',\n",
    "    'Instruction_Set_Extensions',\n",
    "    'Idle_States',\n",
    "    'Thermal_Monitoring_Technologies',\n",
    "    'Secure_Key',\n",
    "    'Execute_Disable_Bit'    \n",
    "]\n",
    "df.drop(columns=drop_columns, inplace=True, errors='ignore')\n",
    "df['Launch_Date'] = df['Launch_Date'].apply(lambda x: launch_date_to_datetime(x))\n",
    "search_string_to_float_columns = [\n",
    "    'Lithography',\n",
    "    'Recommended_Customer_Price',\n",
    "    'nb_of_Cores',\n",
    "    'nb_of_Threads',\n",
    "    'TDP',\n",
    "    'Instruction_Set'\n",
    "]\n",
    "search_freq_to_float_columns = [\n",
    "    'Processor_Base_Frequency',\n",
    "    'Max_Turbo_Frequency'\n",
    "]\n",
    "for column_name in search_string_to_float_columns:\n",
    "    df[column_name] = df[column_name].apply(lambda x: search_string_to_float(x))  \n",
    "for column_name in search_freq_to_float_columns:\n",
    "    df[column_name] = df[column_name].apply(lambda x: search_freq_to_float(x))\n",
    "    \n",
    "df.reset_index(drop=True, inplace=True)\n",
    "    \n",
    "print('Done')\n",
    "print(df.shape)\n"
   ]
  },
  {
   "cell_type": "code",
   "execution_count": 350,
   "id": "dimensional-textbook",
   "metadata": {},
   "outputs": [
    {
     "name": "stdout",
     "output_type": "stream",
     "text": [
      "0      1.3\n",
      "1      1.6\n",
      "2      1.8\n",
      "3      3.6\n",
      "4      1.2\n",
      "      ... \n",
      "938    1.1\n",
      "939    1.1\n",
      "940    1.2\n",
      "941    2.0\n",
      "942    3.1\n",
      "Name: Processor_Base_Frequency, Length: 943, dtype: float64\n"
     ]
    }
   ],
   "source": [
    "print(df['Processor_Base_Frequency'])"
   ]
  },
  {
   "cell_type": "markdown",
   "id": "isolated-breeding",
   "metadata": {},
   "source": [
    "### Scraping CPU performance scores"
   ]
  },
  {
   "cell_type": "code",
   "execution_count": 203,
   "id": "resident-confusion",
   "metadata": {},
   "outputs": [],
   "source": [
    "def form_geekbench_url(cpu_name):\n",
    "    query_url = 'https://browser.geekbench.com/v5/cpu/search?q='\n",
    "    query_url += cpu_name\n",
    "    return query_url\n",
    "\n",
    "def parse_num_result(input_string):\n",
    "    # remove ',' in numerical result\n",
    "    input_string = input_string.replace(',', '')\n",
    "    regex_num_result = re.compile('(\\d+)')\n",
    "    # should be a list of all numerical values in the input_string\n",
    "    num_result_list = regex_num_result.search(input_string)\n",
    "    return int(num_result_list.group())\n",
    "\n",
    "def get_geekbench_score(cpu_series, cpu_name):\n",
    "    if pd.isna(cpu_name):\n",
    "        return tuple((float('nan'), float('nan')))\n",
    "#     if cpu_name.isnumeric() and cpu_series.split()[0] == 'Legacy':\n",
    "#         return tuple((float('nan'), float('nan')))\n",
    "    query_url = form_geekbench_url(cpu_name)\n",
    "    geekbench_response = requests.get(query_url)\n",
    "    root = BeautifulSoup(geekbench_response.content, 'html.parser')\n",
    "    \n",
    "    num_result = parse_num_result(root.find('small').get_text())\n",
    "    if num_result == 0:\n",
    "        return tuple((float('nan'), float('nan')))\n",
    "    # if less than five results, take the 1st one\n",
    "    # else, take the average of first 5 results\n",
    "    if num_result < 5:\n",
    "        single_score_text = root.find_all('span', class_='list-col-subtitle-score', text='\\nSingle-Core Score\\n')[0]\n",
    "        single_score_value = single_score_text.find_next_sibling('span', class_='list-col-text-score')\n",
    "        multi_score_text = root.find_all('span', class_='list-col-subtitle-score', text='\\nMulti-Core Score\\n')[0]\n",
    "        multi_score_value = multi_score_text.find_next_sibling('span', class_='list-col-text-score')\n",
    "        return tuple((float(single_score_value.get_text()), float(multi_score_value.get_text())))\n",
    "    else:\n",
    "        total_single_score = 0.0\n",
    "        total_multi_score = 0.0\n",
    "        for span in root.find_all('span', class_='list-col-subtitle-score', text='\\nSingle-Core Score\\n')[:5]:\n",
    "            single_score_value = span.find_next_sibling('span', class_='list-col-text-score')\n",
    "            total_single_score += float(single_score_value.get_text())\n",
    "        for span in root.find_all('span', class_='list-col-subtitle-score', text='\\nMulti-Core Score\\n')[:5]:\n",
    "            multi_score_value = span.find_next_sibling('span', class_='list-col-text-score')\n",
    "            total_multi_score += float(multi_score_value.get_text())\n",
    "        return tuple((total_single_score / 5, total_multi_score / 5))"
   ]
  },
  {
   "cell_type": "code",
   "execution_count": 204,
   "id": "homeless-species",
   "metadata": {},
   "outputs": [
    {
     "name": "stdout",
     "output_type": "stream",
     "text": [
      "(225.0, 799.0)\n",
      "(1047.8, 3546.2)\n",
      "(nan, nan)\n"
     ]
    }
   ],
   "source": [
    "print(get_geekbench_score('Intel® Pentium® Processor J Series', 'J2850'))\n",
    "print(get_geekbench_score('8th Generation Intel® Core™ i7 Processors', 'i7-8550U'))\n",
    "print(get_geekbench_score('Legacy xxx', '1234'))"
   ]
  },
  {
   "cell_type": "code",
   "execution_count": null,
   "id": "imported-dream",
   "metadata": {},
   "outputs": [],
   "source": [
    "def scrap_geekbench(df):\n",
    "    df_scrape = df.apply(lambda x: get_geekbench_score(x.Product_Collection, x.Processor_Number), axis=1)\n",
    "    df_geekbench_scores = pd.DataFrame()\n",
    "    df_geekbench_scores['Geekbench_Single'] = df_scrape.apply(lambda x: x[0])\n",
    "    df_geekbench_scores['Geekbench_Multi'] = df_scrape.apply(lambda x: x[1])\n",
    "    return df_geekbench_scores\n",
    "df_geekbench_scores = scrap_geekbench(df)"
   ]
  },
  {
   "cell_type": "code",
   "execution_count": 359,
   "id": "willing-parcel",
   "metadata": {},
   "outputs": [],
   "source": [
    "csv_file_name = 'Intel_CPUs_only_geekbench_score.csv'\n",
    "df_geekbench_scores = pd.read_csv(csv_file_name, header=0, sep=',', quotechar='\"', dtype=str, keep_default_na=True)"
   ]
  },
  {
   "cell_type": "code",
   "execution_count": 360,
   "id": "technical-frontier",
   "metadata": {},
   "outputs": [],
   "source": [
    "df_with_score = df.join(df_geekbench_scores)\n",
    "df_with_score.dropna(subset=['Geekbench_Single', 'Geekbench_Multi'], inplace=True)"
   ]
  },
  {
   "cell_type": "code",
   "execution_count": 361,
   "id": "adjacent-girlfriend",
   "metadata": {},
   "outputs": [],
   "source": [
    "df_with_score.to_csv('Intel_CPUs_with_score.csv', encoding='utf-8', index=False)"
   ]
  },
  {
   "cell_type": "markdown",
   "id": "dominant-jersey",
   "metadata": {},
   "source": [
    "### Moore's Law"
   ]
  },
  {
   "cell_type": "code",
   "execution_count": 432,
   "id": "sorted-bulgaria",
   "metadata": {},
   "outputs": [
    {
     "data": {
      "image/png": "[encoded data removed]",
      "text/plain": [
       "<Figure size 720x720 with 1 Axes>"
      ]
     },
     "metadata": {
      "needs_background": "light"
     },
     "output_type": "display_data"
    }
   ],
   "source": [
    "df_desktop = df_with_score[df_with_score.Vertical_Segment == 'Desktop']\n",
    "df_mobile = df_with_score[df_with_score.Vertical_Segment == 'Mobile']\n",
    "\n",
    "# df_Core_desktop = df_desktop[df_desktop.Product_Collection.str.contains('Core', regex=False)]\n",
    "# df_Core_desktop = df_Core_desktop[~(df_Core_desktop.Processor_Number.str.contains('T', regex=False))]\n",
    "# df_Core_desktop = df_Core_desktop[~(df_Core_desktop.Processor_Number.str.contains('S', regex=False))]\n",
    "\n",
    "# df_Core_desktop = df_Core_desktop[~(df_Core_desktop.Processor_Number.str.contains('R', regex=False))]\n",
    "\n",
    "# df_Core_desktop = df_Core_desktop[~(df_Core_desktop.Processor_Number.str.contains('i3', regex=False))]\n",
    "df_mobile.to_csv('core.csv', encoding='utf-8', index=False)\n",
    "launch_time = df_mobile['Launch_Date'].values\n",
    "single_core_perf = df_mobile['Geekbench_Single'].apply(lambda x: float(x)).values\n",
    "multi_core_perf = df_mobile['Geekbench_Multi'].apply(lambda x: float(x)).values\n",
    "# li = df_mobile['T'].apply(lambda x: float(x)).values\n",
    "\n",
    "\n",
    "plt.figure(figsize=(10,10))\n",
    "\n",
    "# plt.xticks(np.arange(2006,2018,step=1))\n",
    "# plt.yticks(np.arange(0,16000,step=1000))\n",
    "plt.scatter(launch_time, single_core_perf)\n",
    "plt.show()"
   ]
  },
  {
   "cell_type": "code",
   "execution_count": null,
   "id": "relevant-requirement",
   "metadata": {},
   "outputs": [],
   "source": []
  }
 ],
 "metadata": {
  "kernelspec": {
   "display_name": "Python 3",
   "language": "python",
   "name": "python3"
  },
  "language_info": {
   "codemirror_mode": {
    "name": "ipython",
    "version": 3
   },
   "file_extension": ".py",
   "mimetype": "text/x-python",
   "name": "python",
   "nbconvert_exporter": "python",
   "pygments_lexer": "ipython3",
   "version": "3.8.5"
  }
 },
 "nbformat": 4,
 "nbformat_minor": 5
}
