{
 "cells": [
  {
   "cell_type": "markdown",
   "id": "identified-genesis",
   "metadata": {},
   "source": [
    "# Tutorial: Computer CPU Evolution Analysis\n",
    "CMU 15688 Spring 2021\n"
   ]
  },
  {
   "cell_type": "markdown",
   "id": "important-happening",
   "metadata": {},
   "source": [
    "### Setting up environment\n",
    "https://drive.google.com/file/d/1ahobYKS66mL53KQhhMg8KoziKq74lToU/view?usp=sharing"
   ]
  },
  {
   "cell_type": "code",
   "execution_count": 13,
   "id": "personal-student",
   "metadata": {},
   "outputs": [],
   "source": [
    "import requests\n",
    "import csv\n",
    "import pandas as pd\n",
    "import numpy as np"
   ]
  },
  {
   "cell_type": "code",
   "execution_count": 15,
   "id": "rational-translator",
   "metadata": {},
   "outputs": [
    {
     "name": "stdout",
     "output_type": "stream",
     "text": [
      "Intel_CPUs.csv      100%[===================>] 557.62K  --.-KB/s    in 0.1s    \n"
     ]
    }
   ],
   "source": [
    "!wget -q --show-progress 'https://drive.google.com/uc?export=download&id=1ahobYKS66mL53KQhhMg8KoziKq74lToU' -O Intel_CPUs.csv"
   ]
  },
  {
   "cell_type": "code",
   "execution_count": 17,
   "id": "legislative-bridal",
   "metadata": {},
   "outputs": [
    {
     "name": "stdout",
     "output_type": "stream",
     "text": [
      "['Product_Collection' 'Vertical_Segment' 'Processor_Number' 'Status'\n",
      " 'Launch_Date' 'Lithography' 'Recommended_Customer_Price' 'nb_of_Cores'\n",
      " 'nb_of_Threads' 'Processor_Base_Frequency' 'Max_Turbo_Frequency' 'Cache'\n",
      " 'Bus_Speed' 'TDP' 'Embedded_Options_Available' 'Conflict_Free'\n",
      " 'Max_Memory_Size' 'Memory_Types' 'Max_nb_of_Memory_Channels'\n",
      " 'Max_Memory_Bandwidth' 'ECC_Memory_Supported' 'Processor_Graphics_'\n",
      " 'Graphics_Base_Frequency' 'Graphics_Max_Dynamic_Frequency'\n",
      " 'Graphics_Video_Max_Memory' 'Graphics_Output' 'Support_4k'\n",
      " 'Max_Resolution_HDMI' 'Max_Resolution_DP'\n",
      " 'Max_Resolution_eDP_Integrated_Flat_Panel' 'DirectX_Support'\n",
      " 'OpenGL_Support' 'PCI_Express_Revision' 'PCI_Express_Configurations_'\n",
      " 'Max_nb_of_PCI_Express_Lanes' 'T' 'Intel_Hyper_Threading_Technology_'\n",
      " 'Intel_Virtualization_Technology_VTx_' 'Intel_64_' 'Instruction_Set'\n",
      " 'Instruction_Set_Extensions' 'Idle_States'\n",
      " 'Thermal_Monitoring_Technologies' 'Secure_Key' 'Execute_Disable_Bit']\n"
     ]
    }
   ],
   "source": [
    "csv_file_name = 'Intel_CPUs.csv'\n",
    "df = pd.read_csv(csv_file_name, header=0, sep=',', quotechar='\"', dtype=str, keep_default_na=False)\n",
    "print(df.columns.values)"
   ]
  }
 ],
 "metadata": {
  "kernelspec": {
   "display_name": "Python 3",
   "language": "python",
   "name": "python3"
  },
  "language_info": {
   "codemirror_mode": {
    "name": "ipython",
    "version": 3
   },
   "file_extension": ".py",
   "mimetype": "text/x-python",
   "name": "python",
   "nbconvert_exporter": "python",
   "pygments_lexer": "ipython3",
   "version": "3.8.5"
  }
 },
 "nbformat": 4,
 "nbformat_minor": 5
}
