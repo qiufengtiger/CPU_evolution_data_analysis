{
 "cells": [
  {
   "cell_type": "markdown",
   "id": "identified-genesis",
   "metadata": {
    "id": "identified-genesis"
   },
   "source": [
    "# Tutorial: Computer CPU Evolution Analysis\n",
    "CMU 15688 Spring 2021\n"
   ]
  },
  {
   "cell_type": "markdown",
   "id": "parliamentary-camera",
   "metadata": {
    "id": "parliamentary-camera"
   },
   "source": [
    "## Introduction\n",
    "\n",
    "This tutorial introduces a dataset that contains most of the Intel's commercial CPUs data from 2005 to 2017, including prcessor series, name, release date, price, base frequency, etc. The dataset was pre-scraped from Intel's offical site. This tutorial is going to analyze and visualize how Intel CPUs have evolved over the time range using this dataset.\n",
    "\n",
    "In order to accomplish that, this tutorial also includes a data-scraping section that extracts CPUs' benchmark scores from Geekbench. Since Geekbench can only perfrom query for one CPU name at a time, the entire data-scraping takes about 15 minutes for over 900 entries in the dataset. To make things easier, you can either enjoy the 15-minute scraping, or download the pre-scraped Geekbench data directly with the script provided."
   ]
  },
  {
   "cell_type": "markdown",
   "id": "important-happening",
   "metadata": {
    "id": "important-happening"
   },
   "source": [
    "## Setting up environment\n",
    "\n",
    "The original CPU information dataset comes from Kaggle that contains basic information of CPUs made by Intel.\n",
    "https://www.kaggle.com/iliassekkaf/computerparts?select=Intel_CPUs.csv\n",
    "\n",
    "\\\n",
    "The dataset follows the exact same format that you can get from Intel's product page. For your reference, this is a sample product information page. The dataset includes all the specifications listed as well as the recommanded price.\\\n",
    "https://ark.intel.com/content/www/us/en/ark/products/97460/intel-pentium-processor-g4620-3m-cache-3-70-ghz.html"
   ]
  },
  {
   "cell_type": "markdown",
   "id": "willing-convertible",
   "metadata": {
    "id": "willing-convertible"
   },
   "source": [
    "Run the script below to download dataset."
   ]
  },
  {
   "cell_type": "code",
   "execution_count": 1,
   "id": "rational-translator",
   "metadata": {
    "colab": {
     "base_uri": "https://localhost:8080/"
    },
    "executionInfo": {
     "elapsed": 777,
     "status": "ok",
     "timestamp": 1617857978553,
     "user": {
      "displayName": "Feng Qiu",
      "photoUrl": "",
      "userId": "03376671748691774165"
     },
     "user_tz": 240
    },
    "id": "rational-translator",
    "outputId": "4b53043d-684d-4077-a752-b74082dfb05d"
   },
   "outputs": [
    {
     "name": "stdout",
     "output_type": "stream",
     "text": [
      "Intel_CPUs.csv      100%[===================>] 557.62K  --.-KB/s    in 0.1s    \n"
     ]
    }
   ],
   "source": [
    "!wget -q --show-progress 'https://drive.google.com/uc?export=download&id=1ahobYKS66mL53KQhhMg8KoziKq74lToU' -O Intel_CPUs.csv"
   ]
  },
  {
   "cell_type": "markdown",
   "id": "pursuant-sellers",
   "metadata": {
    "id": "pursuant-sellers"
   },
   "source": [
    "If you prefer download the dataset manually from Kaggle, name the csv file `Intel_CPUs.csv` and put it in the same directory as the notebook."
   ]
  },
  {
   "cell_type": "markdown",
   "id": "spare-occupation",
   "metadata": {
    "id": "spare-occupation"
   },
   "source": [
    "Import packages used in this tutorial:"
   ]
  },
  {
   "cell_type": "code",
   "execution_count": 2,
   "id": "personal-student",
   "metadata": {
    "id": "personal-student"
   },
   "outputs": [],
   "source": [
    "import requests\n",
    "import csv\n",
    "import pandas as pd\n",
    "import numpy as np\n",
    "import scipy as sp\n",
    "import scipy.optimize\n",
    "from bs4 import BeautifulSoup\n",
    "import re\n",
    "import matplotlib.pyplot as plt\n",
    "import collections"
   ]
  },
  {
   "cell_type": "markdown",
   "id": "genuine-arabic",
   "metadata": {
    "id": "genuine-arabic"
   },
   "source": [
    "## Preprocessing dataset"
   ]
  },
  {
   "cell_type": "markdown",
   "id": "civic-gathering",
   "metadata": {
    "id": "civic-gathering"
   },
   "source": [
    "### Load information dataset and setup data format"
   ]
  },
  {
   "cell_type": "markdown",
   "id": "split-quilt",
   "metadata": {
    "id": "split-quilt"
   },
   "source": [
    "First, load the dataset csv file to Pandas."
   ]
  },
  {
   "cell_type": "code",
   "execution_count": 3,
   "id": "legislative-bridal",
   "metadata": {
    "id": "legislative-bridal"
   },
   "outputs": [],
   "source": [
    "csv_file_name = 'Intel_CPUs.csv'\n",
    "df = pd.read_csv(csv_file_name, header=0, sep=',', quotechar='\"', dtype=str, keep_default_na=True)"
   ]
  },
  {
   "cell_type": "markdown",
   "id": "adaptive-tract",
   "metadata": {
    "id": "adaptive-tract"
   },
   "source": [
    "The cell below contains functions used to parse the dataset. They use regular expression to convert string inputs to desired float / timestamp values."
   ]
  },
  {
   "cell_type": "code",
   "execution_count": 4,
   "id": "knowing-entity",
   "metadata": {
    "id": "knowing-entity"
   },
   "outputs": [],
   "source": [
    "# most commonly used parsing\n",
    "# match any number in the input string\n",
    "def search_string_to_float(input_value):\n",
    "    if pd.isna(input_value):\n",
    "        return float('nan')\n",
    "    regex_process_node = re.compile('(\\d+\\.?\\d*)')\n",
    "    result = regex_process_node.search(input_value)\n",
    "    if result == None:\n",
    "        return float('nan')\n",
    "    return float(result.group())\n",
    "\n",
    "# parse frequency to float\n",
    "# e.g. 800 MHz -> 0.8, 1.2 GHz -> 1.2\n",
    "def search_freq_to_float(input_value):\n",
    "    if pd.isna(input_value):\n",
    "        return float('nan')\n",
    "    regex_freq = re.compile('(\\d+\\.?\\d*)\\s?([MG]Hz)')\n",
    "    result = regex_freq.search(input_value)\n",
    "    if result == None:\n",
    "        return float('nan')\n",
    "    if result.group(2) == 'MHz':\n",
    "        return float(result.group(1)) / 1000\n",
    "    else:\n",
    "        return float(result.group(1))\n",
    "\n",
    "# parse price to float\n",
    "# e.g. $1,234.56 -> 1234.56\n",
    "def search_price_to_float(input_value):\n",
    "    if pd.isna(input_value):\n",
    "        return float('nan')\n",
    "    regex_price = re.compile('(\\d*),?(\\d+.?\\d*)')\n",
    "    result = regex_price.search(input_value)\n",
    "    if result == None:\n",
    "        return float('nan')\n",
    "    return float(''.join([str(x) for x in result.groups()]))\n",
    "\n",
    "# parse release date to pandas datetime\n",
    "# e.g. Q1'16 -> 2016-01-01 00:00:00, Q3'18 -> 2018-07-01 00:00:00\n",
    "def launch_date_to_datetime(input_value):\n",
    "    if pd.isna(input_value):\n",
    "        return float('nan')\n",
    "    # some data is in the format of 04'16, should be Q4'16\n",
    "    # like E5-2699AV4, it was released in Oct 2016\n",
    "    # interestingly this is in fact a typo on Intel's offical site\n",
    "    if input_value[0] == '0':\n",
    "        input_value = 'Q' + input_value[1:]\n",
    "    input_value = input_value.replace(' ', '')\n",
    "    return pd.to_datetime('-'.join(input_value.split(\"'\")[::-1]))"
   ]
  },
  {
   "cell_type": "markdown",
   "id": "polished-button",
   "metadata": {
    "id": "polished-button"
   },
   "source": [
    "Now, use the functions above to do the parsing work. Besides that, we want to drop entries that does not contain a CPU name: `Processor_Number` and a launch date: `Launch_Date`. We also want to drop entries that are listed as `Server` or `Embedded` use. The analysis is mostly about personal-use processors, and Geekbench most likely does not collect scores for non-personal-use processors."
   ]
  },
  {
   "cell_type": "code",
   "execution_count": 5,
   "id": "billion-james",
   "metadata": {
    "colab": {
     "base_uri": "https://localhost:8080/"
    },
    "executionInfo": {
     "elapsed": 474,
     "status": "ok",
     "timestamp": 1617857989157,
     "user": {
      "displayName": "Feng Qiu",
      "photoUrl": "",
      "userId": "03376671748691774165"
     },
     "user_tz": 240
    },
    "id": "billion-james",
    "outputId": "cbf4884b-8259-4436-ed06-389e62c2b604"
   },
   "outputs": [
    {
     "name": "stdout",
     "output_type": "stream",
     "text": [
      "Done\n"
     ]
    }
   ],
   "source": [
    "df.dropna(subset=['Processor_Number', 'Launch_Date'], inplace=True)\n",
    "df = df[~(df.Vertical_Segment == 'Server')]\n",
    "df = df[~(df.Vertical_Segment == 'Embedded')]\n",
    "df = df[~(df.Processor_Number.apply(lambda x: x.isnumeric()))]\n",
    "df['Launch_Date'] = df['Launch_Date'].apply(lambda x: launch_date_to_datetime(x))\n",
    "search_string_to_float_columns = [\n",
    "    'Lithography',\n",
    "    'nb_of_Cores',\n",
    "    'nb_of_Threads',\n",
    "    'TDP'\n",
    "]\n",
    "search_freq_to_float_columns = [\n",
    "    'Processor_Base_Frequency',\n",
    "    'Max_Turbo_Frequency'\n",
    "]\n",
    "for column_name in search_string_to_float_columns:\n",
    "    df[column_name] = df[column_name].apply(lambda x: search_string_to_float(x))  \n",
    "for column_name in search_freq_to_float_columns:\n",
    "    df[column_name] = df[column_name].apply(lambda x: search_freq_to_float(x))\n",
    "df['Recommended_Customer_Price'] = df['Recommended_Customer_Price'].apply(lambda x: search_price_to_float(x))\n",
    "df.reset_index(drop=True, inplace=True)\n",
    "print('Done')"
   ]
  },
  {
   "cell_type": "markdown",
   "id": "isolated-breeding",
   "metadata": {
    "id": "isolated-breeding"
   },
   "source": [
    "### Scrape CPU performance scores from Geekbench\n",
    "Unfortunately, Intel does not release benchmark scores for their products. We can tell the relative performace from the model name, but that is not enough for our analysis. As a result, we want to find their performance scores. We will make use of Geekbench's query and scrape single-core and multi-core performace from the website. For instance, to search the example `G4620` core, the scraper is going to visit `https://browser.geekbench.com/v5/cpu/search?q=G4620` and find the result that has `G4620` in its model name. For each entry, the function `get_geekbench_score(cpu_series, cpu_name)` will return a tuple of `(single-score, multi-score)`."
   ]
  },
  {
   "cell_type": "code",
   "execution_count": 6,
   "id": "resident-confusion",
   "metadata": {
    "id": "resident-confusion"
   },
   "outputs": [],
   "source": [
    "def form_geekbench_url(cpu_name):\n",
    "    query_url = 'https://browser.geekbench.com/v5/cpu/search?q='\n",
    "    query_url += cpu_name\n",
    "    return query_url\n",
    "\n",
    "def parse_num_result(input_string):\n",
    "    # remove ',' in numerical result\n",
    "    input_string = input_string.replace(',', '')\n",
    "    regex_num_result = re.compile('(\\d+)')\n",
    "    # should be a list of all numerical values in the input_string\n",
    "    num_result_list = regex_num_result.search(input_string)\n",
    "    return int(num_result_list.group())\n",
    "\n",
    "def get_geekbench_score(cpu_series, cpu_name):\n",
    "    if pd.isna(cpu_name):\n",
    "        return tuple((float('nan'), float('nan')))\n",
    "    query_url = form_geekbench_url(cpu_name)\n",
    "    geekbench_response = requests.get(query_url)\n",
    "    root = BeautifulSoup(geekbench_response.content, 'html.parser')\n",
    "    \n",
    "    num_result = parse_num_result(root.find('small').get_text())\n",
    "    if num_result == 0:\n",
    "        return tuple((float('nan'), float('nan')))\n",
    "    found = False\n",
    "    while True:\n",
    "        for div in root.find_all('div', class_='col-12 list-col'):\n",
    "            model_name = div.find_all('span', class_='list-col-model')[0].get_text()\n",
    "            if cpu_name in model_name:\n",
    "                single_score_text = div.find_all('span', class_='list-col-subtitle-score', text='\\nSingle-Core Score\\n')[0]\n",
    "                single_score_value = single_score_text.find_next_sibling('span', class_='list-col-text-score')\n",
    "                multi_score_text = div.find_all('span', class_='list-col-subtitle-score', text='\\nMulti-Core Score\\n')[0]\n",
    "                multi_score_value = multi_score_text.find_next_sibling('span', class_='list-col-text-score')\n",
    "                return tuple((float(single_score_value.get_text()), float(multi_score_value.get_text())))\n",
    "        return tuple((float('nan'), float('nan')))"
   ]
  },
  {
   "cell_type": "markdown",
   "id": "varying-savage",
   "metadata": {
    "id": "varying-savage"
   },
   "source": [
    "Now, you can either \n",
    "1. Run the web-scraping (estimated time 15 minutes)\n",
    "2. Download the pre-scraped data directly."
   ]
  },
  {
   "cell_type": "markdown",
   "id": "genetic-novelty",
   "metadata": {
    "id": "genetic-novelty"
   },
   "source": [
    "Option 1. Run web-scraping."
   ]
  },
  {
   "cell_type": "code",
   "execution_count": null,
   "id": "imported-dream",
   "metadata": {
    "id": "imported-dream"
   },
   "outputs": [],
   "source": [
    "def scrap_geekbench(df):\n",
    "    df_scrape = df.apply(lambda x: get_geekbench_score(x.Product_Collection, x.Processor_Number), axis=1)\n",
    "    df_geekbench_scores = pd.DataFrame()\n",
    "    df_geekbench_scores['Geekbench_Single'] = df_scrape.apply(lambda x: x[0])\n",
    "    df_geekbench_scores['Geekbench_Multi'] = df_scrape.apply(lambda x: x[1])\n",
    "    return df_geekbench_scores\n",
    "df_geekbench_scores = scrap_geekbench(df)\n",
    "print('Done')"
   ]
  },
  {
   "cell_type": "markdown",
   "id": "young-symposium",
   "metadata": {
    "id": "young-symposium"
   },
   "source": [
    "Option 2. Download pre-scraped data."
   ]
  },
  {
   "cell_type": "code",
   "execution_count": 7,
   "id": "willing-parcel",
   "metadata": {
    "colab": {
     "base_uri": "https://localhost:8080/"
    },
    "executionInfo": {
     "elapsed": 536,
     "status": "ok",
     "timestamp": 1617857316230,
     "user": {
      "displayName": "Feng Qiu",
      "photoUrl": "",
      "userId": "03376671748691774165"
     },
     "user_tz": 240
    },
    "id": "willing-parcel",
    "outputId": "c2a6fb30-8d4c-48b9-a831-8a3fe5355e5b"
   },
   "outputs": [
    {
     "name": "stdout",
     "output_type": "stream",
     "text": [
      "\r",
      "          Intel_CPU   0%[                    ]       0  --.-KB/s               \r",
      "Intel_CPUs_only_gee 100%[===================>]  10.02K  --.-KB/s    in 0.004s  \r\n"
     ]
    }
   ],
   "source": [
    "!wget -q --show-progress 'https://drive.google.com/uc?export=download&id=163Q4Ch8UtXTFnALmCGKehNJGNaG3lEMk' -O Intel_CPUs_only_geekbench_score.csv\n",
    "csv_file_name = 'Intel_CPUs_only_geekbench_score.csv'\n",
    "df_geekbench_scores = pd.read_csv(csv_file_name, header=0, sep=',', quotechar='\"', dtype=str, keep_default_na=True)"
   ]
  },
  {
   "cell_type": "markdown",
   "id": "hungry-treat",
   "metadata": {
    "id": "hungry-treat"
   },
   "source": [
    "After the Geekbench scores are ready, merge CPU info and scores into one DataFrame `df_with_score`. Also, we need some additional data formatting. \n",
    "1. Cast Geekbench scores to float.\n",
    "2. Re-format `Launch_Date`. We need to do some curve fitting in latter sections. As a result, we are going to convert `Launch_Date` to number of days since 1970-01-01. For instance, `2017-07-01 00:00:00` is converted to `17348.0`."
   ]
  },
  {
   "cell_type": "code",
   "execution_count": 9,
   "id": "technical-frontier",
   "metadata": {
    "colab": {
     "base_uri": "https://localhost:8080/"
    },
    "executionInfo": {
     "elapsed": 288,
     "status": "ok",
     "timestamp": 1617857318255,
     "user": {
      "displayName": "Feng Qiu",
      "photoUrl": "",
      "userId": "03376671748691774165"
     },
     "user_tz": 240
    },
    "id": "technical-frontier",
    "outputId": "4b6a2342-0983-4234-a688-73f04d9383be"
   },
   "outputs": [
    {
     "name": "stdout",
     "output_type": "stream",
     "text": [
      "Done\n"
     ]
    }
   ],
   "source": [
    "df_with_score = df.join(df_geekbench_scores)\n",
    "df_with_score.dropna(subset=['Geekbench_Single', 'Geekbench_Multi'], inplace=True)\n",
    "df_with_score['Geekbench_Single'] = df_with_score['Geekbench_Single'].astype(float)\n",
    "df_with_score['Geekbench_Multi'] = df_with_score['Geekbench_Multi'].astype(float)\n",
    "df_with_score['Launch_Date'] = df_with_score['Launch_Date'].values.astype('datetime64[D]').astype(float)\n",
    "print('Done')"
   ]
  },
  {
   "cell_type": "markdown",
   "id": "dominant-jersey",
   "metadata": {
    "id": "dominant-jersey"
   },
   "source": [
    "## Analysis"
   ]
  },
  {
   "cell_type": "markdown",
   "id": "mysterious-studio",
   "metadata": {
    "id": "mysterious-studio"
   },
   "source": [
    "### Single-core and multi-core performance \n",
    "Now that the dataset is ready, let's do the real work. First, let's take a look at how Geekbench rate processors since 2006. We want to see at what percentage did CPUs improve each year.\n",
    "The following cell plots Geekbench's single-core and multi-core scores versus year as two scatter plots. \n",
    "\n",
    "Besides that, it also fits the trend and describes the improvments using the following fit model:\n",
    "\n",
    "$$ y(x) = a \\cdot 2^{bx} $$\n",
    "\n",
    "The reason of using the model above is that, according to Moore's Law, the number of transistors fit onto a certain die area usually doubles every two years. Even though a doubled number of transistors does not mean a doubled performance, we could make use of this formula to generate a model of how CPU performance has improved.\n",
    "\n",
    "Another important approach taken here is that we seperate `Desktop` and `Mobile` chips. We will see how they are different in the following section."
   ]
  },
  {
   "cell_type": "code",
   "execution_count": 10,
   "id": "sorted-bulgaria",
   "metadata": {
    "colab": {
     "base_uri": "https://localhost:8080/",
     "height": 445
    },
    "executionInfo": {
     "elapsed": 838,
     "status": "ok",
     "timestamp": 1617857321598,
     "user": {
      "displayName": "Feng Qiu",
      "photoUrl": "",
      "userId": "03376671748691774165"
     },
     "user_tz": 240
    },
    "id": "sorted-bulgaria",
    "outputId": "f7d3a8e2-85fb-40a3-c744-6e769ae4b52a",
    "scrolled": false
   },
   "outputs": [
    {
     "data": {
      "image/png": "[encoded data removed]",
      "text/plain": [
       "<Figure size 1008x504 with 2 Axes>"
      ]
     },
     "metadata": {
      "needs_background": "light"
     },
     "output_type": "display_data"
    }
   ],
   "source": [
    "# the fit model used\n",
    "def power(x, a, b):\n",
    "    return a * np.power(2, b*x)\n",
    "\n",
    "# to make sure the filter in the above section does not miss anything\n",
    "df_desktop = df_with_score[df_with_score.Vertical_Segment == 'Desktop']\n",
    "df_mobile = df_with_score[df_with_score.Vertical_Segment == 'Mobile']\n",
    "\n",
    "# seperate desktop and mobile\n",
    "mobile_launch_time = pd.to_datetime(df_mobile['Launch_Date'], unit='D')\n",
    "mobile_single_core_perf = df_mobile['Geekbench_Single'].values\n",
    "mobile_multi_core_perf = df_mobile['Geekbench_Multi'].values\n",
    "\n",
    "desktop_launch_time = pd.to_datetime(df_desktop['Launch_Date'], unit='D')\n",
    "desktop_single_core_perf = df_desktop['Geekbench_Single'].values\n",
    "desktop_multi_core_perf = df_desktop['Geekbench_Multi'].values\n",
    "\n",
    "# fit with the model\n",
    "# x=#days since 1970, y=score\n",
    "mobile_X = df_mobile['Launch_Date'].values\n",
    "mobile_X = np.asarray([x.astype(float) for x in mobile_X])\n",
    "mobile_y = df_mobile['Geekbench_Single'].values\n",
    "mobile_model, _ = sp.optimize.curve_fit(f=power, xdata=mobile_X, ydata=mobile_y, p0=[0, 0])\n",
    "\n",
    "desktop_X = df_desktop['Launch_Date'].values\n",
    "desktop_X = np.asarray([x.astype(float) for x in desktop_X])\n",
    "desktop_y = df_desktop['Geekbench_Single'].values\n",
    "desktop_model, _ = sp.optimize.curve_fit(f=power, xdata=desktop_X, ydata=desktop_y, p0=[0, 0])\n",
    "\n",
    "mobile_y_multi = df_mobile['Geekbench_Multi'].values\n",
    "mobile_model_multi, _ = sp.optimize.curve_fit(f=power, xdata=mobile_X, ydata=mobile_y_multi, p0=[0, 0])\n",
    "\n",
    "desktop_y_multi = df_desktop['Geekbench_Multi'].values\n",
    "desktop_model_multi, _ = sp.optimize.curve_fit(f=power, xdata=desktop_X, ydata=desktop_y_multi, p0=[0, 0])\n",
    "\n",
    "# generate scatter plot\n",
    "plt.figure(figsize=(14,7))\n",
    "plt.subplot(1, 2, 1)\n",
    "plt.scatter(mobile_launch_time, mobile_single_core_perf, label='mobile_single', c='tab:blue')\n",
    "plt.scatter(desktop_launch_time, desktop_single_core_perf, label='desktop_single', c='tab:orange')\n",
    "plt.legend(loc=2, prop={'size': 12}, frameon=True, facecolor=\"white\", edgecolor=\"black\")\n",
    "plt.xlabel('Time of Release', fontsize=12)\n",
    "plt.ylabel('Score', fontsize=12)\n",
    "\n",
    "# plot fit model\n",
    "# from around 2005 to 2019, in #days\n",
    "x_fit = np.linspace(13000, 18000, 100)\n",
    "x_fit_time = [pd.to_datetime(x, unit='D') for x in x_fit]\n",
    "plt.plot(x_fit_time, power(x_fit, mobile_model[0], mobile_model[1]))\n",
    "plt.plot(x_fit_time, power(x_fit, desktop_model[0], desktop_model[1]))\n",
    "\n",
    "# similarly, plot multi_score models\n",
    "plt.subplot(1, 2, 2)\n",
    "plt.scatter(mobile_launch_time, mobile_multi_core_perf, label='mobile_multi', c='tab:blue')\n",
    "plt.scatter(desktop_launch_time, desktop_multi_core_perf, label='desktop_multi', c='tab:orange')\n",
    "plt.legend(loc=2, prop={'size': 12}, frameon=True, facecolor=\"white\", edgecolor=\"black\")\n",
    "plt.xlabel('Time of Release', fontsize=12)\n",
    "plt.ylabel('Score', fontsize=12)\n",
    "plt.plot(x_fit_time, power(x_fit, mobile_model_multi[0], mobile_model_multi[1]))\n",
    "plt.plot(x_fit_time, power(x_fit, desktop_model_multi[0], desktop_model_multi[1]))\n",
    "plt.show()"
   ]
  },
  {
   "cell_type": "markdown",
   "id": "broad-winner",
   "metadata": {
    "id": "broad-winner"
   },
   "source": [
    "As we may imagine, `Desktop` chips in general performs better than `Mobile` chips. Looking at the single-core performance, `Desktop` chips improved just slightly faster than `Mobile` chips. The difference is not significant. This makes sense because essentially these chips share similar architectures. \n",
    "\n",
    "Interestingly, on the other hand, `Desktop` chips improved a lot on multi-core performance over the past few years, especially on the high-end models. There are a few chips on 2017 that almost double the multi-core score compared to other chips. Before we discuss why this happens, let's quantify the improvements got by our model. "
   ]
  },
  {
   "cell_type": "code",
   "execution_count": 11,
   "id": "instructional-hebrew",
   "metadata": {
    "colab": {
     "base_uri": "https://localhost:8080/"
    },
    "executionInfo": {
     "elapsed": 259,
     "status": "ok",
     "timestamp": 1617857325740,
     "user": {
      "displayName": "Feng Qiu",
      "photoUrl": "",
      "userId": "03376671748691774165"
     },
     "user_tz": 240
    },
    "id": "instructional-hebrew",
    "outputId": "54381020-303d-4db2-88de-840b10097270"
   },
   "outputs": [
    {
     "name": "stdout",
     "output_type": "stream",
     "text": [
      "Desktop single-core improvment by year: 110%\n",
      "Desktop multi-core improvment by year: 119%\n",
      "Mobile single-core improvment by year: 110%\n",
      "Mobile multi-core improvment by year: 113%\n"
     ]
    }
   ],
   "source": [
    "print('Desktop single-core improvment by year: %s' % ('{0:.0%}'.format(np.power(2, desktop_model[1] * 365))))\n",
    "print('Desktop multi-core improvment by year: %s' % ('{0:.0%}'.format(np.power(2, desktop_model_multi[1] * 365))))\n",
    "print('Mobile single-core improvment by year: %s' % ('{0:.0%}'.format(np.power(2, mobile_model[1] * 365))))\n",
    "print('Mobile multi-core improvment by year: %s' % ('{0:.0%}'.format(np.power(2, mobile_model_multi[1] * 365))))"
   ]
  },
  {
   "cell_type": "markdown",
   "id": "environmental-adoption",
   "metadata": {
    "id": "environmental-adoption"
   },
   "source": [
    "See these numbers? If you are a computer DIY fan and you have seen Intel's new Core processor release news around those years (especially before AMD's Ryzen series came out), you are probably familiar with these percentages as they are quite close to the IPC (instruction per cycle) improvment that Intel claimed every time they announced new products."
   ]
  },
  {
   "cell_type": "markdown",
   "id": "chubby-championship",
   "metadata": {
    "id": "chubby-championship"
   },
   "source": [
    "### Historical trend"
   ]
  },
  {
   "cell_type": "markdown",
   "id": "vocal-lodge",
   "metadata": {
    "id": "vocal-lodge"
   },
   "source": [
    "Now, let's figure out what makes the performace improvement, and what happened to `Desktop` processors' multi-core performance difference.\n",
    "\n",
    "The cell below plots the changes in process node: `Lithography` and Thermal Design Point: `TDP` over the years. We can use these attributes to see how technological improvments made higher multi-core performance possible.\n",
    "\n",
    "If you are not familiar with these terms, here is a brief introduction.\n",
    "\n",
    "1. Process node describes the length of the transistor gate in semiconductor fabrication process. The smaller the node, the smaller the chip size and power consumption of a single transistor. It is harder to fabricate as the node goes down. Some used nodes in Intel CPUs: 90 nm, 65 nm, 45 nm, 32 nm, 22 nm, 14 nm, and the most recent 10 nm used in Intel's 11th gen. Tiger Lake chips.\n",
    "\n",
    "2. TDP stands for Thermal Design Point. It describes the highest possible heat dissipation of a chip in daily use. The higher the TDP, the higher the power consumption. Increases in chip size and frequency could result in an increase in power consumption and TDP.\n",
    "\n",
    "For process nodes plot, the larger the circle, the more products released with that node at that time."
   ]
  },
  {
   "cell_type": "code",
   "execution_count": 12,
   "id": "extreme-opinion",
   "metadata": {
    "colab": {
     "base_uri": "https://localhost:8080/",
     "height": 395
    },
    "executionInfo": {
     "elapsed": 933,
     "status": "ok",
     "timestamp": 1617857329942,
     "user": {
      "displayName": "Feng Qiu",
      "photoUrl": "",
      "userId": "03376671748691774165"
     },
     "user_tz": 240
    },
    "id": "extreme-opinion",
    "outputId": "09f29a5b-d8af-4c3a-e35f-1c12d5f41d7d",
    "scrolled": false
   },
   "outputs": [
    {
     "data": {
      "image/png": "[encoded data removed]",
      "text/plain": [
       "<Figure size 1008x432 with 4 Axes>"
      ]
     },
     "metadata": {
      "needs_background": "light"
     },
     "output_type": "display_data"
    }
   ],
   "source": [
    "desktop_node = df_desktop['Lithography'].values\n",
    "desktop_release_year = pd.to_datetime(df_desktop['Launch_Date'], unit='D').apply(lambda x: x.year).values\n",
    "mobile_node = df_mobile['Lithography'].values\n",
    "mobile_release_year = pd.to_datetime(df_mobile['Launch_Date'], unit='D').apply(lambda x: x.year).values\n",
    "# preprocess data as tuples\n",
    "desktop_year_node_tuple = []\n",
    "for i in range(len(desktop_node)):\n",
    "    desktop_year_node_tuple.append(tuple((desktop_node[i], desktop_release_year[i])))\n",
    "desktop_years =  list(set(desktop_release_year))\n",
    "desktop_years.sort()\n",
    "\n",
    "mobile_year_node_tuple = []\n",
    "for i in range(len(mobile_node)):\n",
    "    mobile_year_node_tuple.append(tuple((mobile_node[i], mobile_release_year[i])))\n",
    "mobile_years =  list(set(mobile_release_year))\n",
    "mobile_years.sort()\n",
    "# prepare bubble chart\n",
    "desktop_node_list = []\n",
    "desktop_year_list = []\n",
    "desktop_size_list = []\n",
    "for year in desktop_years:\n",
    "    cnt = collections.Counter([x[0] for x in desktop_year_node_tuple if x[1] == year])\n",
    "    for cnt_result in cnt.most_common():\n",
    "        desktop_node_list.append(cnt_result[0])\n",
    "        desktop_size_list.append(cnt_result[1] * 2)\n",
    "        desktop_year_list.append(year)    \n",
    "mobile_node_list = []\n",
    "mobile_year_list = []\n",
    "mobile_size_list = []\n",
    "for year in mobile_years:\n",
    "    cnt = collections.Counter([x[0] for x in mobile_year_node_tuple if x[1] == year])\n",
    "    for cnt_result in cnt.most_common():\n",
    "        mobile_node_list.append(cnt_result[0])\n",
    "        mobile_size_list.append(cnt_result[1] * 2)\n",
    "        mobile_year_list.append(year)\n",
    "# plot\n",
    "plt.figure(figsize=(14,6))\n",
    "plt.subplot(2, 2, 2)\n",
    "plt.ylim((0, 100))\n",
    "plt.scatter(desktop_year_list, desktop_node_list, s=desktop_size_list, label='desktop_nodes', c='tab:orange')\n",
    "plt.legend(loc=1, prop={'size': 12}, frameon=True, facecolor=\"white\", edgecolor=\"black\")\n",
    "plt.xlabel('Time of Release', fontsize=12)\n",
    "plt.ylabel('Node', fontsize=12)\n",
    "plt.subplot(2, 2, 1)\n",
    "plt.ylim((0, 100))\n",
    "plt.scatter(mobile_year_list, mobile_node_list, s=mobile_size_list, label='mobile_nodes', c='tab:blue')\n",
    "plt.legend(loc=1, prop={'size': 12}, frameon=True, facecolor=\"white\", edgecolor=\"black\")\n",
    "plt.xlabel('Time of Release', fontsize=12)\n",
    "plt.ylabel('Node', fontsize=12)\n",
    "plt.subplot(2, 2, 4)\n",
    "plt.ylim((0, 180))\n",
    "plt.scatter(desktop_release_year, df_desktop['TDP'].values, label='desktop_TDP', c='tab:orange')\n",
    "plt.legend(loc=2, prop={'size': 12}, frameon=True, facecolor=\"white\", edgecolor=\"black\")\n",
    "plt.xlabel('Time of Release', fontsize=12)\n",
    "plt.ylabel('TDP', fontsize=12)\n",
    "plt.subplot(2, 2, 3)\n",
    "plt.ylim((0, 180))\n",
    "plt.scatter(mobile_release_year, df_mobile['TDP'].values, label='mobile_TDP', c='tab:blue')\n",
    "plt.legend(loc=2, prop={'size': 12}, frameon=True, facecolor=\"white\", edgecolor=\"black\")\n",
    "plt.xlabel('Time of Release', fontsize=12)\n",
    "plt.ylabel('TDP', fontsize=12)\n",
    "plt.show()\n"
   ]
  },
  {
   "cell_type": "markdown",
   "id": "equivalent-harvest",
   "metadata": {
    "id": "equivalent-harvest"
   },
   "source": [
    "As we can see, the process node went down almost every two years. The decrease in process node should have decreased the power consumption, and TDP, if everything else remains the same.\n",
    "\n",
    "However, this does not happen in the TDP plot. We see that TDPs remain steady over years. This is potentially because that recent chips either increase chip sizes or the frequency, or both, which should have resulted in an increase in power consumption. The decrease in process node helps balancing it, maintaining the same amount of overall power consumption."
   ]
  },
  {
   "cell_type": "markdown",
   "id": "developing-monster",
   "metadata": {
    "id": "developing-monster"
   },
   "source": [
    "In this case, let's see how chip size and frequency specfication actually changed."
   ]
  },
  {
   "cell_type": "code",
   "execution_count": 13,
   "id": "provincial-radical",
   "metadata": {
    "colab": {
     "base_uri": "https://localhost:8080/",
     "height": 504
    },
    "executionInfo": {
     "elapsed": 890,
     "status": "ok",
     "timestamp": 1617857333950,
     "user": {
      "displayName": "Feng Qiu",
      "photoUrl": "",
      "userId": "03376671748691774165"
     },
     "user_tz": 240
    },
    "id": "provincial-radical",
    "outputId": "e797b687-cb58-4b8f-8b7e-ec5572db0803"
   },
   "outputs": [
    {
     "data": {
      "image/png": "[encoded data removed]",
      "text/plain": [
       "<Figure size 1008x576 with 4 Axes>"
      ]
     },
     "metadata": {
      "needs_background": "light"
     },
     "output_type": "display_data"
    }
   ],
   "source": [
    "plt.figure(figsize=(14,8))\n",
    "plt.subplot(2, 2, 1)\n",
    "mobile_core_num = df_mobile['nb_of_Cores'].values\n",
    "\n",
    "plt.scatter(mobile_launch_time, mobile_core_num, label='mobile_#cores', c='tab:blue')\n",
    "plt.ylim((0, 20))\n",
    "plt.legend(loc=2, prop={'size': 12}, frameon=True, facecolor=\"white\", edgecolor=\"black\")\n",
    "plt.xlabel('Time of Release', fontsize=12)\n",
    "plt.ylabel('Number of Cores', fontsize=12)\n",
    "\n",
    "plt.subplot(2, 2, 2)\n",
    "desktop_core_num = df_desktop['nb_of_Cores'].values\n",
    "plt.scatter(desktop_launch_time, desktop_core_num, label='desktop_#cores', c='tab:orange')\n",
    "plt.ylim((0, 20))\n",
    "plt.legend(loc=2, prop={'size': 12}, frameon=True, facecolor=\"white\", edgecolor=\"black\")\n",
    "plt.xlabel('Time of Release', fontsize=12)\n",
    "plt.ylabel('Number of Cores', fontsize=12)\n",
    "\n",
    "plt.subplot(2, 2, 3)\n",
    "mobile_freq = df_mobile['Processor_Base_Frequency'].values\n",
    "plt.scatter(mobile_launch_time, mobile_freq, label='mobile_base_freq', c='tab:blue')\n",
    "plt.ylim((0, 5))\n",
    "plt.xlabel('Time of Release', fontsize=12)\n",
    "plt.ylabel('Freq. in GHz', fontsize=12)\n",
    "\n",
    "plt.subplot(2, 2, 4)\n",
    "desktop_freq = df_desktop['Processor_Base_Frequency'].values\n",
    "plt.scatter(desktop_launch_time, desktop_freq, label='desktop_base_freq', c='tab:orange')\n",
    "plt.ylim((0, 5))\n",
    "plt.xlabel('Time of Release', fontsize=12)\n",
    "plt.ylabel('Freq. in GHz', fontsize=12)\n",
    "plt.show()"
   ]
  },
  {
   "cell_type": "markdown",
   "id": "controlling-service",
   "metadata": {
    "id": "controlling-service"
   },
   "source": [
    "Unlike `Mobile` chips, Intel kept increasing the number of cores in `Desktop` over the past few years. The increase in the number of cores is the reason that `Desktop` chips had a higher increase in multi-core performance."
   ]
  },
  {
   "cell_type": "markdown",
   "id": "extreme-honduras",
   "metadata": {
    "id": "extreme-honduras"
   },
   "source": [
    "## Real world application: which chip gives the highest performance per dollar you spend?\n",
    "Finally, let's talk about some real-world application that the dataset can help you with. Suppose you are DIYing your computer, and you want to buy the best processor in terms of economic benefit. That is, you want the highest performance per dollar you spend. Let's plot how much performace you get divided by the recommanded price."
   ]
  },
  {
   "cell_type": "code",
   "execution_count": 14,
   "id": "governmental-services",
   "metadata": {
    "colab": {
     "base_uri": "https://localhost:8080/",
     "height": 500
    },
    "executionInfo": {
     "elapsed": 663,
     "status": "ok",
     "timestamp": 1617857852616,
     "user": {
      "displayName": "Feng Qiu",
      "photoUrl": "",
      "userId": "03376671748691774165"
     },
     "user_tz": 240
    },
    "id": "governmental-services",
    "outputId": "66d7c73f-62c1-4c74-e967-37e9197b895f",
    "scrolled": false
   },
   "outputs": [
    {
     "data": {
      "image/png": "[encoded data removed]",
      "text/plain": [
       "<Figure size 576x576 with 1 Axes>"
      ]
     },
     "metadata": {
      "needs_background": "light"
     },
     "output_type": "display_data"
    },
    {
     "name": "stdout",
     "output_type": "stream",
     "text": [
      "[861, 82, 854, 846, 830, 834, 789, 106, 111, 124, 114]\n"
     ]
    }
   ],
   "source": [
    "# linear fit model\n",
    "def linear(x, a, b):\n",
    "    return a * x + b\n",
    "\n",
    "df_with_score_price = df_with_score.dropna(subset=['Recommended_Customer_Price'])\n",
    "df_desktop = df_with_score_price[df_with_score_price.Vertical_Segment == 'Desktop']\n",
    "df_mobile = df_with_score_price[df_with_score_price.Vertical_Segment == 'Mobile']\n",
    "\n",
    "mobile_launch_time = pd.to_datetime(df_mobile['Launch_Date'], unit='D')\n",
    "desktop_launch_time = pd.to_datetime(df_desktop['Launch_Date'], unit='D')\n",
    "\n",
    "# calculate performance per dollar\n",
    "df_desktop_perf_per_dollar = pd.DataFrame()\n",
    "df_desktop_perf_per_dollar['Single_Perf_Per_Dollar'] = df_desktop.apply(lambda x: x.Geekbench_Single / x.Recommended_Customer_Price, axis=1)\n",
    "df_desktop = df_desktop.join(df_desktop_perf_per_dollar)\n",
    "\n",
    "\n",
    "launch_years = pd.to_datetime(df_desktop['Launch_Date'], unit='D').apply(lambda x: x.year).values\n",
    "launch_years = list(set(launch_years))\n",
    "launch_years.sort()\n",
    "\n",
    "max_all_years = []\n",
    "max_all_years_id = []\n",
    "for launch_year in launch_years:\n",
    "    df_per_year = df_desktop[pd.to_datetime(df_desktop['Launch_Date'], unit='D').apply(lambda x: x.year).values == launch_year]\n",
    "    max_per_year = df_per_year['Single_Perf_Per_Dollar'].max()\n",
    "    max_per_year_id = df_per_year['Single_Perf_Per_Dollar'].idxmax()\n",
    "    max_all_years.append(max_per_year)\n",
    "    max_all_years_id.append(max_per_year_id)\n",
    "launch_years = [pd.to_datetime(x, format='%Y') for x in launch_years]\n",
    "launch_years = [x.to_datetime64().astype('datetime64[D]').astype(float) for x in launch_years]  \n",
    "    \n",
    "desktop_model, _ = sp.optimize.curve_fit(f=linear, xdata=launch_years, ydata=max_all_years, p0=[0, 0])\n",
    "\n",
    "x_fit = np.linspace(13000, 18000, 100)\n",
    "launch_years = np.asarray(launch_years)\n",
    "launch_years_time = [pd.to_datetime(x, unit='D') for x in launch_years]\n",
    "\n",
    "plt.figure(figsize=(8,8))\n",
    "plt.scatter(desktop_launch_time, df_desktop['Single_Perf_Per_Dollar'].values, c='tab:orange')\n",
    "plt.scatter(launch_years_time, max_all_years)\n",
    "\n",
    "# remove 2016, the outlier\n",
    "launch_years = np.delete(launch_years, -2)\n",
    "launch_years_time.pop(-2)\n",
    "max_all_years = np.delete(max_all_years, -2)\n",
    "desktop_model, _ = sp.optimize.curve_fit(f=linear, xdata=launch_years, ydata=max_all_years, p0=[0, 0]) \n",
    "plt.plot(launch_years_time, linear(launch_years, desktop_model[0], desktop_model[1]), c='tab:blue')\n",
    "plt.show()\n",
    "print(max_all_years_id)"
   ]
  },
  {
   "cell_type": "markdown",
   "id": "adolescent-identity",
   "metadata": {
    "id": "adolescent-identity"
   },
   "source": [
    "The blue dots are the most economic chip every year. From these blue data points, we can see that it is almost a linear increase. The blue line is the least-square fit if we exclude the 2016 outlier. This is how technological improvment benefits us: every year we can get more performance out of a single penny we spend on processors.\n",
    "\n",
    "How about the lonely blue data point in 2016? Let's see what are these economic competition winners."
   ]
  },
  {
   "cell_type": "code",
   "execution_count": 15,
   "id": "preceding-disclosure",
   "metadata": {
    "colab": {
     "base_uri": "https://localhost:8080/",
     "height": 390
    },
    "executionInfo": {
     "elapsed": 268,
     "status": "ok",
     "timestamp": 1617857855334,
     "user": {
      "displayName": "Feng Qiu",
      "photoUrl": "",
      "userId": "03376671748691774165"
     },
     "user_tz": 240
    },
    "id": "preceding-disclosure",
    "outputId": "545982b8-8d42-4d77-b67c-56ef2e741c6d",
    "scrolled": false
   },
   "outputs": [
    {
     "data": {
      "text/html": [
       "<div>\n",
       "<style scoped>\n",
       "    .dataframe tbody tr th:only-of-type {\n",
       "        vertical-align: middle;\n",
       "    }\n",
       "\n",
       "    .dataframe tbody tr th {\n",
       "        vertical-align: top;\n",
       "    }\n",
       "\n",
       "    .dataframe thead th {\n",
       "        text-align: right;\n",
       "    }\n",
       "</style>\n",
       "<table border=\"1\" class=\"dataframe\">\n",
       "  <thead>\n",
       "    <tr style=\"text-align: right;\">\n",
       "      <th></th>\n",
       "      <th>Product_Collection</th>\n",
       "      <th>Vertical_Segment</th>\n",
       "      <th>Processor_Number</th>\n",
       "      <th>Launch_Date</th>\n",
       "      <th>Recommended_Customer_Price</th>\n",
       "      <th>Geekbench_Single</th>\n",
       "      <th>Single_Perf_Per_Dollar</th>\n",
       "    </tr>\n",
       "  </thead>\n",
       "  <tbody>\n",
       "    <tr>\n",
       "      <th>861</th>\n",
       "      <td>Legacy Intel® Celeron® Processor</td>\n",
       "      <td>Desktop</td>\n",
       "      <td>E1500</td>\n",
       "      <td>2006</td>\n",
       "      <td>47.0</td>\n",
       "      <td>197.0</td>\n",
       "      <td>4.191489</td>\n",
       "    </tr>\n",
       "    <tr>\n",
       "      <th>82</th>\n",
       "      <td>Legacy Intel® Pentium® Processor</td>\n",
       "      <td>Desktop</td>\n",
       "      <td>E6500</td>\n",
       "      <td>2008</td>\n",
       "      <td>68.0</td>\n",
       "      <td>396.0</td>\n",
       "      <td>5.823529</td>\n",
       "    </tr>\n",
       "    <tr>\n",
       "      <th>854</th>\n",
       "      <td>Legacy Intel® Celeron® Processor</td>\n",
       "      <td>Desktop</td>\n",
       "      <td>E3300</td>\n",
       "      <td>2009</td>\n",
       "      <td>47.0</td>\n",
       "      <td>342.0</td>\n",
       "      <td>7.276596</td>\n",
       "    </tr>\n",
       "    <tr>\n",
       "      <th>846</th>\n",
       "      <td>Legacy Intel® Celeron® Processor</td>\n",
       "      <td>Desktop</td>\n",
       "      <td>E3400</td>\n",
       "      <td>2010</td>\n",
       "      <td>42.0</td>\n",
       "      <td>392.0</td>\n",
       "      <td>9.333333</td>\n",
       "    </tr>\n",
       "    <tr>\n",
       "      <th>830</th>\n",
       "      <td>Legacy Intel® Celeron® Processor</td>\n",
       "      <td>Desktop</td>\n",
       "      <td>G540</td>\n",
       "      <td>2011</td>\n",
       "      <td>40.0</td>\n",
       "      <td>481.0</td>\n",
       "      <td>12.025000</td>\n",
       "    </tr>\n",
       "    <tr>\n",
       "      <th>834</th>\n",
       "      <td>Legacy Intel® Celeron® Processor</td>\n",
       "      <td>Desktop</td>\n",
       "      <td>G550</td>\n",
       "      <td>2012</td>\n",
       "      <td>42.0</td>\n",
       "      <td>444.0</td>\n",
       "      <td>10.571429</td>\n",
       "    </tr>\n",
       "    <tr>\n",
       "      <th>789</th>\n",
       "      <td>Intel® Pentium® Processor G Series</td>\n",
       "      <td>Desktop</td>\n",
       "      <td>G3220</td>\n",
       "      <td>2013</td>\n",
       "      <td>54.0</td>\n",
       "      <td>667.0</td>\n",
       "      <td>12.351852</td>\n",
       "    </tr>\n",
       "    <tr>\n",
       "      <th>106</th>\n",
       "      <td>Intel® Celeron® Processor G Series</td>\n",
       "      <td>Desktop</td>\n",
       "      <td>G1820T</td>\n",
       "      <td>2014</td>\n",
       "      <td>42.0</td>\n",
       "      <td>581.0</td>\n",
       "      <td>13.833333</td>\n",
       "    </tr>\n",
       "    <tr>\n",
       "      <th>111</th>\n",
       "      <td>Intel® Celeron® Processor G Series</td>\n",
       "      <td>Desktop</td>\n",
       "      <td>G3900</td>\n",
       "      <td>2015</td>\n",
       "      <td>42.0</td>\n",
       "      <td>694.0</td>\n",
       "      <td>16.523810</td>\n",
       "    </tr>\n",
       "    <tr>\n",
       "      <th>124</th>\n",
       "      <td>Intel® Celeron® Processor J Series</td>\n",
       "      <td>Desktop</td>\n",
       "      <td>J3355</td>\n",
       "      <td>2016</td>\n",
       "      <td>107.0</td>\n",
       "      <td>333.0</td>\n",
       "      <td>3.112150</td>\n",
       "    </tr>\n",
       "    <tr>\n",
       "      <th>114</th>\n",
       "      <td>Intel® Celeron® Processor G Series</td>\n",
       "      <td>Desktop</td>\n",
       "      <td>G3930</td>\n",
       "      <td>2017</td>\n",
       "      <td>42.0</td>\n",
       "      <td>708.0</td>\n",
       "      <td>16.857143</td>\n",
       "    </tr>\n",
       "  </tbody>\n",
       "</table>\n",
       "</div>"
      ],
      "text/plain": [
       "                     Product_Collection Vertical_Segment Processor_Number  \\\n",
       "861    Legacy Intel® Celeron® Processor          Desktop            E1500   \n",
       "82     Legacy Intel® Pentium® Processor          Desktop            E6500   \n",
       "854    Legacy Intel® Celeron® Processor          Desktop            E3300   \n",
       "846    Legacy Intel® Celeron® Processor          Desktop            E3400   \n",
       "830    Legacy Intel® Celeron® Processor          Desktop             G540   \n",
       "834    Legacy Intel® Celeron® Processor          Desktop             G550   \n",
       "789  Intel® Pentium® Processor G Series          Desktop            G3220   \n",
       "106  Intel® Celeron® Processor G Series          Desktop           G1820T   \n",
       "111  Intel® Celeron® Processor G Series          Desktop            G3900   \n",
       "124  Intel® Celeron® Processor J Series          Desktop            J3355   \n",
       "114  Intel® Celeron® Processor G Series          Desktop            G3930   \n",
       "\n",
       "     Launch_Date  Recommended_Customer_Price  Geekbench_Single  \\\n",
       "861         2006                        47.0             197.0   \n",
       "82          2008                        68.0             396.0   \n",
       "854         2009                        47.0             342.0   \n",
       "846         2010                        42.0             392.0   \n",
       "830         2011                        40.0             481.0   \n",
       "834         2012                        42.0             444.0   \n",
       "789         2013                        54.0             667.0   \n",
       "106         2014                        42.0             581.0   \n",
       "111         2015                        42.0             694.0   \n",
       "124         2016                       107.0             333.0   \n",
       "114         2017                        42.0             708.0   \n",
       "\n",
       "     Single_Perf_Per_Dollar  \n",
       "861                4.191489  \n",
       "82                 5.823529  \n",
       "854                7.276596  \n",
       "846                9.333333  \n",
       "830               12.025000  \n",
       "834               10.571429  \n",
       "789               12.351852  \n",
       "106               13.833333  \n",
       "111               16.523810  \n",
       "124                3.112150  \n",
       "114               16.857143  "
      ]
     },
     "execution_count": 15,
     "metadata": {},
     "output_type": "execute_result"
    }
   ],
   "source": [
    "df_desktop['Launch_Date'] = df_desktop['Launch_Date'].apply(lambda x: pd.to_datetime(x, unit='D').year)\n",
    "print_list = [\n",
    "    'Product_Collection',\n",
    "    'Vertical_Segment',\n",
    "    'Processor_Number',\n",
    "    'Launch_Date',\n",
    "    'Recommended_Customer_Price',\n",
    "    'Geekbench_Single',\n",
    "    'Single_Perf_Per_Dollar'\n",
    "]\n",
    "df_desktop.loc[max_all_years_id][print_list]"
   ]
  },
  {
   "cell_type": "markdown",
   "id": "joined-piece",
   "metadata": {
    "id": "joined-piece"
   },
   "source": [
    "As we can see, they are either Celeron E/G series or Pentium G Series, except for the 2016 winner. Celeron G and Pentium E/G processors were specfically designed for medium performance and low cost, reusing Core series microarchitectures to target low markets. That is why they are the most economic ones.\n",
    "\n",
    "Why 2016's winner is a Celeron J processor? It is simply because Intel did not release new Celeron G and Pentium G in 2016.\n",
    "\n",
    "https://ark.intel.com/content/www/us/en/ark/products/series/77772/intel-pentium-processor-g-series.html#@Desktop\n",
    "\n",
    "https://ark.intel.com/content/www/us/en/ark/products/series/90613/intel-celeron-processor-g-series.html#@Desktop\n"
   ]
  },
  {
   "cell_type": "markdown",
   "id": "recovered-tennessee",
   "metadata": {},
   "source": [
    "## Further resources\n",
    "If you are interested in the Moore's Law, you can take a look at this original journal from Gordon E. Moore\\\n",
    "https://newsroom.intel.com/wp-content/uploads/sites/11/2018/05/moores-law-electronics.pdf\n",
    "\n",
    "... And a brief talk from him\\\n",
    "https://www.youtube.com/watch?v=EzyJxAP6AQo&ab_channel=ASML \\\n",
    "It is particularly interesting when he mentioned that it is not the industry trend that magically follows the Moore's Law, but the Moore's Law is driving the industry. There are many, many approaches that the industry is taking / have taken in order to catch up with Moore's Law's prediction, for instance, ASML's EUV, Intel's FinFET layout, etc. They together created the technological progress that make the statement at the end of Historical trend analysis come true.\n",
    "\n",
    "If you are interested in some techniques they used: \\\n",
    "https://www.youtube.com/watch?v=f0gMdGrVteI&ab_channel=Seeker"
   ]
  }
 ],
 "metadata": {
  "colab": {
   "name": "CPU_evolution_analysis.ipynb",
   "provenance": []
  },
  "kernelspec": {
   "display_name": "Python 3",
   "language": "python",
   "name": "python3"
  },
  "language_info": {
   "codemirror_mode": {
    "name": "ipython",
    "version": 3
   },
   "file_extension": ".py",
   "mimetype": "text/x-python",
   "name": "python",
   "nbconvert_exporter": "python",
   "pygments_lexer": "ipython3",
   "version": "3.8.5"
  }
 },
 "nbformat": 4,
 "nbformat_minor": 5
}
